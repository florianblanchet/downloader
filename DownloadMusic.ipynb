{
 "cells": [
  {
   "cell_type": "markdown",
   "metadata": {},
   "source": [
    "# Transforme un lien youtube en un lien de téléchargement"
   ]
  },
  {
   "cell_type": "code",
   "execution_count": 4,
   "metadata": {
    "collapsed": false
   },
   "outputs": [
    {
     "name": "stdout",
     "output_type": "stream",
     "text": [
      "Entrez le lien youtube de votre musique : https://www.youtube.com/watch?v=qnlo-6qz5MU\n",
      "http://jureo.yt-downloader.org/download.php?id=11d88259b61683a05694633dffcf68c7&d=qnlo-6qz5MU\n"
     ]
    }
   ],
   "source": [
    "import sys\n",
    "import os\n",
    "from selenium import webdriver\n",
    "from selenium.webdriver.common.desired_capabilities import DesiredCapabilities\n",
    "from selenium.webdriver.common.action_chains import ActionChains\n",
    "import time\n",
    "\n",
    "dcap = dict(DesiredCapabilities.PHANTOMJS)\n",
    "dcap['phantomjs.page.settings.userAgent'] = 'Mozilla/5.0 (Macintosh; Intel Mac OS X 10_10_3) AppleWebKit/537.36 (KHTML, like Gecko) Chrome/43.0.2357.81 Safari/537.36'\n",
    "#param = {\"url\":'https://www.youtube.com/watch?v=ShiKVmNnp9w',\"format\":\"mp3\"}\n",
    "url = \"https://www.youtube2mp3.cc/\"\n",
    "youtube = raw_input(\"Entrez le lien youtube de votre musique : \")\n",
    "#youtube = 'https://www.youtube.com/watch?v=ShiKVmNnp9w'\n",
    "browser = webdriver.PhantomJS(desired_capabilities=dcap)\n",
    "#browser = webdriver.Firefox() #-> besoin de geckodriver dans le PATH\n",
    "time.sleep(1)\n",
    "browser.get(url)\n",
    "time.sleep(1)\n",
    "login = browser.find_element_by_name(\"video\")\n",
    "login.send_keys(youtube)\n",
    "browser.find_element_by_id('button').click()\n",
    "time.sleep(3)\n",
    "print(browser.find_element_by_id('download').get_attribute(\"href\"))\n",
    "time.sleep(3)\n",
    "#print(browser.page_source)\n",
    "browser.quit()\n",
    "if os.path.isfile('ghostdriver.log') == True:\n",
    "        os.remove('ghostdriver.log')\n",
    "\n"
   ]
  },
  {
   "cell_type": "code",
   "execution_count": null,
   "metadata": {
    "collapsed": true
   },
   "outputs": [],
   "source": []
  }
 ],
 "metadata": {
  "kernelspec": {
   "display_name": "Python 2",
   "language": "python",
   "name": "python2"
  },
  "language_info": {
   "codemirror_mode": {
    "name": "ipython",
    "version": 2
   },
   "file_extension": ".py",
   "mimetype": "text/x-python",
   "name": "python",
   "nbconvert_exporter": "python",
   "pygments_lexer": "ipython2",
   "version": "2.7.13"
  }
 },
 "nbformat": 4,
 "nbformat_minor": 2
}
